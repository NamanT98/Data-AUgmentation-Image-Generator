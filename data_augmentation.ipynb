{
 "cells": [
  {
   "cell_type": "code",
   "execution_count": 1,
   "metadata": {
    "id": "0P2aAa7MYdA2"
   },
   "outputs": [],
   "source": [
    "import numpy as np\n",
    "import matplotlib.pyplot as plt\n",
    "from tensorflow.keras.preprocessing.image import ImageDataGenerator\n",
    "import os\n",
    "image_path=\"img/\""
   ]
  },
  {
   "cell_type": "code",
   "execution_count": 4,
   "metadata": {
    "id": "UMQrvA46YYMC"
   },
   "outputs": [],
   "source": [
    "def Generate_images(image_path,n_images=20):\n",
    "    img=os.listdir(image_path)\n",
    "    for k in range(len(img)):\n",
    "        img_arr = plt.imread(image_path+img[k])\n",
    "        img_arr = np.expand_dims(img_arr, axis=0)\n",
    "        datagen = ImageDataGenerator(horizontal_flip=True,\n",
    "                                    width_shift_range=0.1,\n",
    "                                    height_shift_range=0.1,\n",
    "                                    zoom_range=0.3,\n",
    "                                    rotation_range=0.3)\n",
    "        im = datagen.flow(img_arr, batch_size =1)\n",
    "        os.makedirs(f\"Aug_image{k}\")\n",
    "        for i in range(n_images):\n",
    "            batch = im.next()\n",
    "            fin_img = batch[0].astype('uint8')\n",
    "            plt.imsave(f\"Aug_image{k}/{i}.jpg\",fin_img)\n"
   ]
  },
  {
   "cell_type": "code",
   "execution_count": 5,
   "metadata": {
    "id": "snLGJvDYZ3KX"
   },
   "outputs": [],
   "source": [
    "Generate_images(image_path)"
   ]
  },
  {
   "cell_type": "code",
   "execution_count": null,
   "metadata": {
    "id": "FCvVyvQjjFQU"
   },
   "outputs": [],
   "source": []
  }
 ],
 "metadata": {
  "colab": {
   "provenance": []
  },
  "kernelspec": {
   "display_name": "Python 3 (ipykernel)",
   "language": "python",
   "name": "python3"
  },
  "language_info": {
   "codemirror_mode": {
    "name": "ipython",
    "version": 3
   },
   "file_extension": ".py",
   "mimetype": "text/x-python",
   "name": "python",
   "nbconvert_exporter": "python",
   "pygments_lexer": "ipython3",
   "version": "3.10.6"
  }
 },
 "nbformat": 4,
 "nbformat_minor": 1
}
